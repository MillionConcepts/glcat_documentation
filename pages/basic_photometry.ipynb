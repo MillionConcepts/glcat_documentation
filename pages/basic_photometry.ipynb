{
 "cells": [
  {
   "cell_type": "markdown",
   "id": "258d9705",
   "metadata": {},
   "source": [
    "# Basic photometric analyses\n",
    "\n",
    "gPhoton2 extracts photometric measurements using the aperture photometry tools of `astropy`'s `photutils` package."
   ]
  },
  {
   "cell_type": "code",
   "execution_count": 8,
   "id": "1933edf0",
   "metadata": {},
   "outputs": [],
   "source": [
    "from rich import print\n",
    "import numpy as np\n",
    "from pathlib import Path\n",
    "import pandas as pd\n",
    "import matplotlib.pyplot as plt\n",
    "\n",
    "from gPhoton import analysis"
   ]
  },
  {
   "cell_type": "code",
   "execution_count": 2,
   "id": "b3ec7cdc",
   "metadata": {},
   "outputs": [],
   "source": [
    "edir = 'test_data/e23456/'\n",
    "photomfiles = {'APER4':f'{edir}/e23456-nd-f0060-b00-movie-photom-12_8.csv',\n",
    "               'APER5':f'{edir}/e23456-nd-f0060-b00-movie-photom-17_3.csv',\n",
    "               'APER6':f'{edir}/e23456-nd-f0060-b00-movie-photom-30_0.csv',}"
   ]
  },
  {
   "cell_type": "markdown",
   "id": "8ce45d22",
   "metadata": {},
   "source": [
    "First we will open a photometry file that has been output directly from gPhoton2. Cross-referencing the [filenaming reference](#filenaming_conventions.md) will permit you to identify that this is a photometry file for the 0th leg of eclipse 23456 in the NUV band with 60-second time bins and 12.8\" radius apertures. This aperture radius corresponds to what the mission designated "
   ]
  },
  {
   "cell_type": "code",
   "execution_count": 12,
   "id": "2678488b",
   "metadata": {},
   "outputs": [
    {
     "data": {
      "text/html": [
       "<div>\n",
       "<style scoped>\n",
       "    .dataframe tbody tr th:only-of-type {\n",
       "        vertical-align: middle;\n",
       "    }\n",
       "\n",
       "    .dataframe tbody tr th {\n",
       "        vertical-align: top;\n",
       "    }\n",
       "\n",
       "    .dataframe thead th {\n",
       "        text-align: right;\n",
       "    }\n",
       "</style>\n",
       "<table border=\"1\" class=\"dataframe\">\n",
       "  <thead>\n",
       "    <tr style=\"text-align: right;\">\n",
       "      <th></th>\n",
       "      <th>xcentroid</th>\n",
       "      <th>ycentroid</th>\n",
       "      <th>area</th>\n",
       "      <th>segment_flux</th>\n",
       "      <th>elongation</th>\n",
       "      <th>eccentricity</th>\n",
       "      <th>equivalent_radius</th>\n",
       "      <th>orientation</th>\n",
       "      <th>max_value</th>\n",
       "      <th>maxval_xindex</th>\n",
       "      <th>...</th>\n",
       "      <th>artifact_flag_19</th>\n",
       "      <th>artifact_flag_20</th>\n",
       "      <th>artifact_flag_21</th>\n",
       "      <th>artifact_flag_22</th>\n",
       "      <th>artifact_flag_23</th>\n",
       "      <th>artifact_flag_24</th>\n",
       "      <th>artifact_flag_25</th>\n",
       "      <th>artifact_flag_26</th>\n",
       "      <th>artifact_flag_27</th>\n",
       "      <th>artifact_flag_28</th>\n",
       "    </tr>\n",
       "  </thead>\n",
       "  <tbody>\n",
       "    <tr>\n",
       "      <th>0</th>\n",
       "      <td>1475.455495</td>\n",
       "      <td>77.000000</td>\n",
       "      <td>2.0</td>\n",
       "      <td>-1.262053</td>\n",
       "      <td>1.994049</td>\n",
       "      <td>0.865162</td>\n",
       "      <td>0.797885</td>\n",
       "      <td>0.000000</td>\n",
       "      <td>-0.081044</td>\n",
       "      <td>1475</td>\n",
       "      <td>...</td>\n",
       "      <td>12</td>\n",
       "      <td>12</td>\n",
       "      <td>12</td>\n",
       "      <td>12</td>\n",
       "      <td>12</td>\n",
       "      <td>12</td>\n",
       "      <td>12</td>\n",
       "      <td>12</td>\n",
       "      <td>12</td>\n",
       "      <td>12</td>\n",
       "    </tr>\n",
       "    <tr>\n",
       "      <th>1</th>\n",
       "      <td>1526.000000</td>\n",
       "      <td>83.499629</td>\n",
       "      <td>2.0</td>\n",
       "      <td>12.307364</td>\n",
       "      <td>2.000000</td>\n",
       "      <td>0.866025</td>\n",
       "      <td>0.797885</td>\n",
       "      <td>90.000000</td>\n",
       "      <td>9.614330</td>\n",
       "      <td>1526</td>\n",
       "      <td>...</td>\n",
       "      <td>13</td>\n",
       "      <td>12</td>\n",
       "      <td>13</td>\n",
       "      <td>12</td>\n",
       "      <td>13</td>\n",
       "      <td>12</td>\n",
       "      <td>13</td>\n",
       "      <td>4</td>\n",
       "      <td>13</td>\n",
       "      <td>12</td>\n",
       "    </tr>\n",
       "    <tr>\n",
       "      <th>2</th>\n",
       "      <td>1515.351158</td>\n",
       "      <td>93.584657</td>\n",
       "      <td>92.0</td>\n",
       "      <td>872.138351</td>\n",
       "      <td>2.256933</td>\n",
       "      <td>0.896482</td>\n",
       "      <td>5.411516</td>\n",
       "      <td>85.961426</td>\n",
       "      <td>27.325287</td>\n",
       "      <td>1516</td>\n",
       "      <td>...</td>\n",
       "      <td>12</td>\n",
       "      <td>4</td>\n",
       "      <td>12</td>\n",
       "      <td>4</td>\n",
       "      <td>12</td>\n",
       "      <td>4</td>\n",
       "      <td>12</td>\n",
       "      <td>4</td>\n",
       "      <td>12</td>\n",
       "      <td>12</td>\n",
       "    </tr>\n",
       "    <tr>\n",
       "      <th>3</th>\n",
       "      <td>1402.531181</td>\n",
       "      <td>88.510167</td>\n",
       "      <td>4.0</td>\n",
       "      <td>28.404093</td>\n",
       "      <td>1.006050</td>\n",
       "      <td>0.109504</td>\n",
       "      <td>1.128379</td>\n",
       "      <td>53.391200</td>\n",
       "      <td>11.763075</td>\n",
       "      <td>1403</td>\n",
       "      <td>...</td>\n",
       "      <td>12</td>\n",
       "      <td>12</td>\n",
       "      <td>12</td>\n",
       "      <td>12</td>\n",
       "      <td>12</td>\n",
       "      <td>12</td>\n",
       "      <td>12</td>\n",
       "      <td>4</td>\n",
       "      <td>12</td>\n",
       "      <td>12</td>\n",
       "    </tr>\n",
       "    <tr>\n",
       "      <th>4</th>\n",
       "      <td>1444.994432</td>\n",
       "      <td>89.000000</td>\n",
       "      <td>3.0</td>\n",
       "      <td>14.752273</td>\n",
       "      <td>2.988250</td>\n",
       "      <td>0.942345</td>\n",
       "      <td>0.977205</td>\n",
       "      <td>0.000000</td>\n",
       "      <td>8.529310</td>\n",
       "      <td>1444</td>\n",
       "      <td>...</td>\n",
       "      <td>12</td>\n",
       "      <td>12</td>\n",
       "      <td>12</td>\n",
       "      <td>12</td>\n",
       "      <td>12</td>\n",
       "      <td>12</td>\n",
       "      <td>12</td>\n",
       "      <td>12</td>\n",
       "      <td>12</td>\n",
       "      <td>12</td>\n",
       "    </tr>\n",
       "  </tbody>\n",
       "</table>\n",
       "<p>5 rows × 175 columns</p>\n",
       "</div>"
      ],
      "text/plain": [
       "     xcentroid  ycentroid  area  segment_flux  elongation  eccentricity  \\\n",
       "0  1475.455495  77.000000   2.0     -1.262053    1.994049      0.865162   \n",
       "1  1526.000000  83.499629   2.0     12.307364    2.000000      0.866025   \n",
       "2  1515.351158  93.584657  92.0    872.138351    2.256933      0.896482   \n",
       "3  1402.531181  88.510167   4.0     28.404093    1.006050      0.109504   \n",
       "4  1444.994432  89.000000   3.0     14.752273    2.988250      0.942345   \n",
       "\n",
       "   equivalent_radius  orientation  max_value  maxval_xindex  ...  \\\n",
       "0           0.797885     0.000000  -0.081044           1475  ...   \n",
       "1           0.797885    90.000000   9.614330           1526  ...   \n",
       "2           5.411516    85.961426  27.325287           1516  ...   \n",
       "3           1.128379    53.391200  11.763075           1403  ...   \n",
       "4           0.977205     0.000000   8.529310           1444  ...   \n",
       "\n",
       "   artifact_flag_19  artifact_flag_20  artifact_flag_21  artifact_flag_22  \\\n",
       "0                12                12                12                12   \n",
       "1                13                12                13                12   \n",
       "2                12                 4                12                 4   \n",
       "3                12                12                12                12   \n",
       "4                12                12                12                12   \n",
       "\n",
       "   artifact_flag_23  artifact_flag_24  artifact_flag_25  artifact_flag_26  \\\n",
       "0                12                12                12                12   \n",
       "1                13                12                13                 4   \n",
       "2                12                 4                12                 4   \n",
       "3                12                12                12                 4   \n",
       "4                12                12                12                12   \n",
       "\n",
       "   artifact_flag_27  artifact_flag_28  \n",
       "0                12                12  \n",
       "1                13                12  \n",
       "2                12                12  \n",
       "3                12                12  \n",
       "4                12                12  \n",
       "\n",
       "[5 rows x 175 columns]"
      ]
     },
     "execution_count": 12,
     "metadata": {},
     "output_type": "execute_result"
    }
   ],
   "source": [
    "aper4_photom = pd.read_csv(f'{edir}/e23456-nd-f0060-b00-movie-photom-12_8.csv')\n",
    "aper4_photom.head()"
   ]
  },
  {
   "cell_type": "markdown",
   "id": "ed913d2b",
   "metadata": {},
   "source": [
    "Note that there is a huge number of columns in the photometry files. The exact number depends on the observing mode, because many columns are repeated for every frame of a movie, if the photometry was performed on a movie file. These repeating frames will be appended with a frame index `_[N]`. The column definitions more fully described in **[REFERENCE TBD]**.\n",
    "\n",
    "The columns that we care about the most right now will be:\n",
    "| Column | Description |\n",
    "|--------|-------------|\n",
    "| [xy]centroid | Centroid of the source in count image pixel coordinates\n",
    "| [xy]center | Center of the aperture in count image pixel coordinates\n",
    "| ra | Right ascention of aperture center in J2000 decimal degrees\n",
    "| dec | Declination of aperture center in J2000 decimal degrees\n",
    "| aperture_sum[_N] | Integrated counts within the aperture (pixel values, interpolated)\n",
    "| artifact_flag[_N] | Artifact flag of pixels within the aperture\n",
    "| t0[_N] | Start time in \"GALEX time\"\n",
    "| t1[_N] | Stop time in \"GALEX time\"\n",
    "| expt[_N] | Effective exposure time in seconds"
   ]
  },
  {
   "cell_type": "code",
   "execution_count": 13,
   "id": "382ded52",
   "metadata": {},
   "outputs": [
    {
     "data": {
      "text/html": [
       "<pre style=\"white-space:pre;overflow-x:auto;line-height:normal;font-family:Menlo,'DejaVu Sans Mono',consolas,'Courier New',monospace\">xcentroid, </pre>\n"
      ],
      "text/plain": [
       "xcentroid, "
      ]
     },
     "metadata": {},
     "output_type": "display_data"
    },
    {
     "data": {
      "text/html": [
       "<pre style=\"white-space:pre;overflow-x:auto;line-height:normal;font-family:Menlo,'DejaVu Sans Mono',consolas,'Courier New',monospace\">ycentroid, </pre>\n"
      ],
      "text/plain": [
       "ycentroid, "
      ]
     },
     "metadata": {},
     "output_type": "display_data"
    },
    {
     "data": {
      "text/html": [
       "<pre style=\"white-space:pre;overflow-x:auto;line-height:normal;font-family:Menlo,'DejaVu Sans Mono',consolas,'Courier New',monospace\">area, </pre>\n"
      ],
      "text/plain": [
       "area, "
      ]
     },
     "metadata": {},
     "output_type": "display_data"
    },
    {
     "data": {
      "text/html": [
       "<pre style=\"white-space:pre;overflow-x:auto;line-height:normal;font-family:Menlo,'DejaVu Sans Mono',consolas,'Courier New',monospace\">segment_flux, </pre>\n"
      ],
      "text/plain": [
       "segment_flux, "
      ]
     },
     "metadata": {},
     "output_type": "display_data"
    },
    {
     "data": {
      "text/html": [
       "<pre style=\"white-space:pre;overflow-x:auto;line-height:normal;font-family:Menlo,'DejaVu Sans Mono',consolas,'Courier New',monospace\">elongation, </pre>\n"
      ],
      "text/plain": [
       "elongation, "
      ]
     },
     "metadata": {},
     "output_type": "display_data"
    },
    {
     "data": {
      "text/html": [
       "<pre style=\"white-space:pre;overflow-x:auto;line-height:normal;font-family:Menlo,'DejaVu Sans Mono',consolas,'Courier New',monospace\">eccentricity, </pre>\n"
      ],
      "text/plain": [
       "eccentricity, "
      ]
     },
     "metadata": {},
     "output_type": "display_data"
    },
    {
     "data": {
      "text/html": [
       "<pre style=\"white-space:pre;overflow-x:auto;line-height:normal;font-family:Menlo,'DejaVu Sans Mono',consolas,'Courier New',monospace\">equivalent_radius, </pre>\n"
      ],
      "text/plain": [
       "equivalent_radius, "
      ]
     },
     "metadata": {},
     "output_type": "display_data"
    },
    {
     "data": {
      "text/html": [
       "<pre style=\"white-space:pre;overflow-x:auto;line-height:normal;font-family:Menlo,'DejaVu Sans Mono',consolas,'Courier New',monospace\">orientation, </pre>\n"
      ],
      "text/plain": [
       "orientation, "
      ]
     },
     "metadata": {},
     "output_type": "display_data"
    },
    {
     "data": {
      "text/html": [
       "<pre style=\"white-space:pre;overflow-x:auto;line-height:normal;font-family:Menlo,'DejaVu Sans Mono',consolas,'Courier New',monospace\">max_value, </pre>\n"
      ],
      "text/plain": [
       "max_value, "
      ]
     },
     "metadata": {},
     "output_type": "display_data"
    },
    {
     "data": {
      "text/html": [
       "<pre style=\"white-space:pre;overflow-x:auto;line-height:normal;font-family:Menlo,'DejaVu Sans Mono',consolas,'Courier New',monospace\">maxval_xindex, </pre>\n"
      ],
      "text/plain": [
       "maxval_xindex, "
      ]
     },
     "metadata": {},
     "output_type": "display_data"
    },
    {
     "data": {
      "text/html": [
       "<pre style=\"white-space:pre;overflow-x:auto;line-height:normal;font-family:Menlo,'DejaVu Sans Mono',consolas,'Courier New',monospace\">maxval_yindex, </pre>\n"
      ],
      "text/plain": [
       "maxval_yindex, "
      ]
     },
     "metadata": {},
     "output_type": "display_data"
    },
    {
     "data": {
      "text/html": [
       "<pre style=\"white-space:pre;overflow-x:auto;line-height:normal;font-family:Menlo,'DejaVu Sans Mono',consolas,'Courier New',monospace\">min_value, </pre>\n"
      ],
      "text/plain": [
       "min_value, "
      ]
     },
     "metadata": {},
     "output_type": "display_data"
    },
    {
     "data": {
      "text/html": [
       "<pre style=\"white-space:pre;overflow-x:auto;line-height:normal;font-family:Menlo,'DejaVu Sans Mono',consolas,'Courier New',monospace\">minval_xindex, </pre>\n"
      ],
      "text/plain": [
       "minval_xindex, "
      ]
     },
     "metadata": {},
     "output_type": "display_data"
    },
    {
     "data": {
      "text/html": [
       "<pre style=\"white-space:pre;overflow-x:auto;line-height:normal;font-family:Menlo,'DejaVu Sans Mono',consolas,'Courier New',monospace\">minval_yindex, </pre>\n"
      ],
      "text/plain": [
       "minval_yindex, "
      ]
     },
     "metadata": {},
     "output_type": "display_data"
    },
    {
     "data": {
      "text/html": [
       "<pre style=\"white-space:pre;overflow-x:auto;line-height:normal;font-family:Menlo,'DejaVu Sans Mono',consolas,'Courier New',monospace\">bbox_xmin, </pre>\n"
      ],
      "text/plain": [
       "bbox_xmin, "
      ]
     },
     "metadata": {},
     "output_type": "display_data"
    },
    {
     "data": {
      "text/html": [
       "<pre style=\"white-space:pre;overflow-x:auto;line-height:normal;font-family:Menlo,'DejaVu Sans Mono',consolas,'Courier New',monospace\">bbox_xmax, </pre>\n"
      ],
      "text/plain": [
       "bbox_xmax, "
      ]
     },
     "metadata": {},
     "output_type": "display_data"
    },
    {
     "data": {
      "text/html": [
       "<pre style=\"white-space:pre;overflow-x:auto;line-height:normal;font-family:Menlo,'DejaVu Sans Mono',consolas,'Courier New',monospace\">bbox_ymin, </pre>\n"
      ],
      "text/plain": [
       "bbox_ymin, "
      ]
     },
     "metadata": {},
     "output_type": "display_data"
    },
    {
     "data": {
      "text/html": [
       "<pre style=\"white-space:pre;overflow-x:auto;line-height:normal;font-family:Menlo,'DejaVu Sans Mono',consolas,'Courier New',monospace\">bbox_ymax, </pre>\n"
      ],
      "text/plain": [
       "bbox_ymax, "
      ]
     },
     "metadata": {},
     "output_type": "display_data"
    },
    {
     "data": {
      "text/html": [
       "<pre style=\"white-space:pre;overflow-x:auto;line-height:normal;font-family:Menlo,'DejaVu Sans Mono',consolas,'Courier New',monospace\">threshold_multiplier, </pre>\n"
      ],
      "text/plain": [
       "threshold_multiplier, "
      ]
     },
     "metadata": {},
     "output_type": "display_data"
    },
    {
     "data": {
      "text/html": [
       "<pre style=\"white-space:pre;overflow-x:auto;line-height:normal;font-family:Menlo,'DejaVu Sans Mono',consolas,'Courier New',monospace\">threshold_minimum, </pre>\n"
      ],
      "text/plain": [
       "threshold_minimum, "
      ]
     },
     "metadata": {},
     "output_type": "display_data"
    },
    {
     "data": {
      "text/html": [
       "<pre style=\"white-space:pre;overflow-x:auto;line-height:normal;font-family:Menlo,'DejaVu Sans Mono',consolas,'Courier New',monospace\">extended_source, </pre>\n"
      ],
      "text/plain": [
       "extended_source, "
      ]
     },
     "metadata": {},
     "output_type": "display_data"
    },
    {
     "data": {
      "text/html": [
       "<pre style=\"white-space:pre;overflow-x:auto;line-height:normal;font-family:Menlo,'DejaVu Sans Mono',consolas,'Courier New',monospace\">xcenter, </pre>\n"
      ],
      "text/plain": [
       "xcenter, "
      ]
     },
     "metadata": {},
     "output_type": "display_data"
    },
    {
     "data": {
      "text/html": [
       "<pre style=\"white-space:pre;overflow-x:auto;line-height:normal;font-family:Menlo,'DejaVu Sans Mono',consolas,'Courier New',monospace\">ycenter, </pre>\n"
      ],
      "text/plain": [
       "ycenter, "
      ]
     },
     "metadata": {},
     "output_type": "display_data"
    },
    {
     "data": {
      "text/html": [
       "<pre style=\"white-space:pre;overflow-x:auto;line-height:normal;font-family:Menlo,'DejaVu Sans Mono',consolas,'Courier New',monospace\">aperture_sum, </pre>\n"
      ],
      "text/plain": [
       "aperture_sum, "
      ]
     },
     "metadata": {},
     "output_type": "display_data"
    },
    {
     "data": {
      "text/html": [
       "<pre style=\"white-space:pre;overflow-x:auto;line-height:normal;font-family:Menlo,'DejaVu Sans Mono',consolas,'Courier New',monospace\">ya_aperture_sum, </pre>\n"
      ],
      "text/plain": [
       "ya_aperture_sum, "
      ]
     },
     "metadata": {},
     "output_type": "display_data"
    },
    {
     "data": {
      "text/html": [
       "<pre style=\"white-space:pre;overflow-x:auto;line-height:normal;font-family:Menlo,'DejaVu Sans Mono',consolas,'Courier New',monospace\">stdcolrow_aperture_sum, </pre>\n"
      ],
      "text/plain": [
       "stdcolrow_aperture_sum, "
      ]
     },
     "metadata": {},
     "output_type": "display_data"
    },
    {
     "data": {
      "text/html": [
       "<pre style=\"white-space:pre;overflow-x:auto;line-height:normal;font-family:Menlo,'DejaVu Sans Mono',consolas,'Courier New',monospace\">q_aperture_sum, </pre>\n"
      ],
      "text/plain": [
       "q_aperture_sum, "
      ]
     },
     "metadata": {},
     "output_type": "display_data"
    },
    {
     "data": {
      "text/html": [
       "<pre style=\"white-space:pre;overflow-x:auto;line-height:normal;font-family:Menlo,'DejaVu Sans Mono',consolas,'Courier New',monospace\">artifact_flag, </pre>\n"
      ],
      "text/plain": [
       "artifact_flag, "
      ]
     },
     "metadata": {},
     "output_type": "display_data"
    },
    {
     "data": {
      "text/html": [
       "<pre style=\"white-space:pre;overflow-x:auto;line-height:normal;font-family:Menlo,'DejaVu Sans Mono',consolas,'Courier New',monospace\">ra, </pre>\n"
      ],
      "text/plain": [
       "ra, "
      ]
     },
     "metadata": {},
     "output_type": "display_data"
    },
    {
     "data": {
      "text/html": [
       "<pre style=\"white-space:pre;overflow-x:auto;line-height:normal;font-family:Menlo,'DejaVu Sans Mono',consolas,'Courier New',monospace\">dec, </pre>\n"
      ],
      "text/plain": [
       "dec, "
      ]
     },
     "metadata": {},
     "output_type": "display_data"
    },
    {
     "data": {
      "text/html": [
       "<pre style=\"white-space:pre;overflow-x:auto;line-height:normal;font-family:Menlo,'DejaVu Sans Mono',consolas,'Courier New',monospace\">aperture_sum_0, </pre>\n"
      ],
      "text/plain": [
       "aperture_sum_0, "
      ]
     },
     "metadata": {},
     "output_type": "display_data"
    },
    {
     "data": {
      "text/html": [
       "<pre style=\"white-space:pre;overflow-x:auto;line-height:normal;font-family:Menlo,'DejaVu Sans Mono',consolas,'Courier New',monospace\">aperture_sum_1, </pre>\n"
      ],
      "text/plain": [
       "aperture_sum_1, "
      ]
     },
     "metadata": {},
     "output_type": "display_data"
    },
    {
     "data": {
      "text/html": [
       "<pre style=\"white-space:pre;overflow-x:auto;line-height:normal;font-family:Menlo,'DejaVu Sans Mono',consolas,'Courier New',monospace\">aperture_sum_2, </pre>\n"
      ],
      "text/plain": [
       "aperture_sum_2, "
      ]
     },
     "metadata": {},
     "output_type": "display_data"
    },
    {
     "data": {
      "text/html": [
       "<pre style=\"white-space:pre;overflow-x:auto;line-height:normal;font-family:Menlo,'DejaVu Sans Mono',consolas,'Courier New',monospace\">aperture_sum_3, </pre>\n"
      ],
      "text/plain": [
       "aperture_sum_3, "
      ]
     },
     "metadata": {},
     "output_type": "display_data"
    },
    {
     "data": {
      "text/html": [
       "<pre style=\"white-space:pre;overflow-x:auto;line-height:normal;font-family:Menlo,'DejaVu Sans Mono',consolas,'Courier New',monospace\">aperture_sum_4, </pre>\n"
      ],
      "text/plain": [
       "aperture_sum_4, "
      ]
     },
     "metadata": {},
     "output_type": "display_data"
    },
    {
     "data": {
      "text/html": [
       "<pre style=\"white-space:pre;overflow-x:auto;line-height:normal;font-family:Menlo,'DejaVu Sans Mono',consolas,'Courier New',monospace\">aperture_sum_5, </pre>\n"
      ],
      "text/plain": [
       "aperture_sum_5, "
      ]
     },
     "metadata": {},
     "output_type": "display_data"
    },
    {
     "data": {
      "text/html": [
       "<pre style=\"white-space:pre;overflow-x:auto;line-height:normal;font-family:Menlo,'DejaVu Sans Mono',consolas,'Courier New',monospace\">aperture_sum_6, </pre>\n"
      ],
      "text/plain": [
       "aperture_sum_6, "
      ]
     },
     "metadata": {},
     "output_type": "display_data"
    },
    {
     "data": {
      "text/html": [
       "<pre style=\"white-space:pre;overflow-x:auto;line-height:normal;font-family:Menlo,'DejaVu Sans Mono',consolas,'Courier New',monospace\">aperture_sum_7, </pre>\n"
      ],
      "text/plain": [
       "aperture_sum_7, "
      ]
     },
     "metadata": {},
     "output_type": "display_data"
    },
    {
     "data": {
      "text/html": [
       "<pre style=\"white-space:pre;overflow-x:auto;line-height:normal;font-family:Menlo,'DejaVu Sans Mono',consolas,'Courier New',monospace\">aperture_sum_8, </pre>\n"
      ],
      "text/plain": [
       "aperture_sum_8, "
      ]
     },
     "metadata": {},
     "output_type": "display_data"
    },
    {
     "data": {
      "text/html": [
       "<pre style=\"white-space:pre;overflow-x:auto;line-height:normal;font-family:Menlo,'DejaVu Sans Mono',consolas,'Courier New',monospace\">aperture_sum_9, </pre>\n"
      ],
      "text/plain": [
       "aperture_sum_9, "
      ]
     },
     "metadata": {},
     "output_type": "display_data"
    },
    {
     "data": {
      "text/html": [
       "<pre style=\"white-space:pre;overflow-x:auto;line-height:normal;font-family:Menlo,'DejaVu Sans Mono',consolas,'Courier New',monospace\">aperture_sum_10, </pre>\n"
      ],
      "text/plain": [
       "aperture_sum_10, "
      ]
     },
     "metadata": {},
     "output_type": "display_data"
    },
    {
     "data": {
      "text/html": [
       "<pre style=\"white-space:pre;overflow-x:auto;line-height:normal;font-family:Menlo,'DejaVu Sans Mono',consolas,'Courier New',monospace\">aperture_sum_11, </pre>\n"
      ],
      "text/plain": [
       "aperture_sum_11, "
      ]
     },
     "metadata": {},
     "output_type": "display_data"
    },
    {
     "data": {
      "text/html": [
       "<pre style=\"white-space:pre;overflow-x:auto;line-height:normal;font-family:Menlo,'DejaVu Sans Mono',consolas,'Courier New',monospace\">aperture_sum_12, </pre>\n"
      ],
      "text/plain": [
       "aperture_sum_12, "
      ]
     },
     "metadata": {},
     "output_type": "display_data"
    },
    {
     "data": {
      "text/html": [
       "<pre style=\"white-space:pre;overflow-x:auto;line-height:normal;font-family:Menlo,'DejaVu Sans Mono',consolas,'Courier New',monospace\">aperture_sum_13, </pre>\n"
      ],
      "text/plain": [
       "aperture_sum_13, "
      ]
     },
     "metadata": {},
     "output_type": "display_data"
    },
    {
     "data": {
      "text/html": [
       "<pre style=\"white-space:pre;overflow-x:auto;line-height:normal;font-family:Menlo,'DejaVu Sans Mono',consolas,'Courier New',monospace\">aperture_sum_14, </pre>\n"
      ],
      "text/plain": [
       "aperture_sum_14, "
      ]
     },
     "metadata": {},
     "output_type": "display_data"
    },
    {
     "data": {
      "text/html": [
       "<pre style=\"white-space:pre;overflow-x:auto;line-height:normal;font-family:Menlo,'DejaVu Sans Mono',consolas,'Courier New',monospace\">aperture_sum_15, </pre>\n"
      ],
      "text/plain": [
       "aperture_sum_15, "
      ]
     },
     "metadata": {},
     "output_type": "display_data"
    },
    {
     "data": {
      "text/html": [
       "<pre style=\"white-space:pre;overflow-x:auto;line-height:normal;font-family:Menlo,'DejaVu Sans Mono',consolas,'Courier New',monospace\">aperture_sum_16, </pre>\n"
      ],
      "text/plain": [
       "aperture_sum_16, "
      ]
     },
     "metadata": {},
     "output_type": "display_data"
    },
    {
     "data": {
      "text/html": [
       "<pre style=\"white-space:pre;overflow-x:auto;line-height:normal;font-family:Menlo,'DejaVu Sans Mono',consolas,'Courier New',monospace\">aperture_sum_17, </pre>\n"
      ],
      "text/plain": [
       "aperture_sum_17, "
      ]
     },
     "metadata": {},
     "output_type": "display_data"
    },
    {
     "data": {
      "text/html": [
       "<pre style=\"white-space:pre;overflow-x:auto;line-height:normal;font-family:Menlo,'DejaVu Sans Mono',consolas,'Courier New',monospace\">aperture_sum_18, </pre>\n"
      ],
      "text/plain": [
       "aperture_sum_18, "
      ]
     },
     "metadata": {},
     "output_type": "display_data"
    },
    {
     "data": {
      "text/html": [
       "<pre style=\"white-space:pre;overflow-x:auto;line-height:normal;font-family:Menlo,'DejaVu Sans Mono',consolas,'Courier New',monospace\">aperture_sum_19, </pre>\n"
      ],
      "text/plain": [
       "aperture_sum_19, "
      ]
     },
     "metadata": {},
     "output_type": "display_data"
    },
    {
     "data": {
      "text/html": [
       "<pre style=\"white-space:pre;overflow-x:auto;line-height:normal;font-family:Menlo,'DejaVu Sans Mono',consolas,'Courier New',monospace\">aperture_sum_20, </pre>\n"
      ],
      "text/plain": [
       "aperture_sum_20, "
      ]
     },
     "metadata": {},
     "output_type": "display_data"
    },
    {
     "data": {
      "text/html": [
       "<pre style=\"white-space:pre;overflow-x:auto;line-height:normal;font-family:Menlo,'DejaVu Sans Mono',consolas,'Courier New',monospace\">aperture_sum_21, </pre>\n"
      ],
      "text/plain": [
       "aperture_sum_21, "
      ]
     },
     "metadata": {},
     "output_type": "display_data"
    },
    {
     "data": {
      "text/html": [
       "<pre style=\"white-space:pre;overflow-x:auto;line-height:normal;font-family:Menlo,'DejaVu Sans Mono',consolas,'Courier New',monospace\">aperture_sum_22, </pre>\n"
      ],
      "text/plain": [
       "aperture_sum_22, "
      ]
     },
     "metadata": {},
     "output_type": "display_data"
    },
    {
     "data": {
      "text/html": [
       "<pre style=\"white-space:pre;overflow-x:auto;line-height:normal;font-family:Menlo,'DejaVu Sans Mono',consolas,'Courier New',monospace\">aperture_sum_23, </pre>\n"
      ],
      "text/plain": [
       "aperture_sum_23, "
      ]
     },
     "metadata": {},
     "output_type": "display_data"
    },
    {
     "data": {
      "text/html": [
       "<pre style=\"white-space:pre;overflow-x:auto;line-height:normal;font-family:Menlo,'DejaVu Sans Mono',consolas,'Courier New',monospace\">aperture_sum_24, </pre>\n"
      ],
      "text/plain": [
       "aperture_sum_24, "
      ]
     },
     "metadata": {},
     "output_type": "display_data"
    },
    {
     "data": {
      "text/html": [
       "<pre style=\"white-space:pre;overflow-x:auto;line-height:normal;font-family:Menlo,'DejaVu Sans Mono',consolas,'Courier New',monospace\">aperture_sum_25, </pre>\n"
      ],
      "text/plain": [
       "aperture_sum_25, "
      ]
     },
     "metadata": {},
     "output_type": "display_data"
    },
    {
     "data": {
      "text/html": [
       "<pre style=\"white-space:pre;overflow-x:auto;line-height:normal;font-family:Menlo,'DejaVu Sans Mono',consolas,'Courier New',monospace\">aperture_sum_26, </pre>\n"
      ],
      "text/plain": [
       "aperture_sum_26, "
      ]
     },
     "metadata": {},
     "output_type": "display_data"
    },
    {
     "data": {
      "text/html": [
       "<pre style=\"white-space:pre;overflow-x:auto;line-height:normal;font-family:Menlo,'DejaVu Sans Mono',consolas,'Courier New',monospace\">aperture_sum_27, </pre>\n"
      ],
      "text/plain": [
       "aperture_sum_27, "
      ]
     },
     "metadata": {},
     "output_type": "display_data"
    },
    {
     "data": {
      "text/html": [
       "<pre style=\"white-space:pre;overflow-x:auto;line-height:normal;font-family:Menlo,'DejaVu Sans Mono',consolas,'Courier New',monospace\">aperture_sum_28, </pre>\n"
      ],
      "text/plain": [
       "aperture_sum_28, "
      ]
     },
     "metadata": {},
     "output_type": "display_data"
    },
    {
     "data": {
      "text/html": [
       "<pre style=\"white-space:pre;overflow-x:auto;line-height:normal;font-family:Menlo,'DejaVu Sans Mono',consolas,'Courier New',monospace\">expt_0, </pre>\n"
      ],
      "text/plain": [
       "expt_0, "
      ]
     },
     "metadata": {},
     "output_type": "display_data"
    },
    {
     "data": {
      "text/html": [
       "<pre style=\"white-space:pre;overflow-x:auto;line-height:normal;font-family:Menlo,'DejaVu Sans Mono',consolas,'Courier New',monospace\">expt_1, </pre>\n"
      ],
      "text/plain": [
       "expt_1, "
      ]
     },
     "metadata": {},
     "output_type": "display_data"
    },
    {
     "data": {
      "text/html": [
       "<pre style=\"white-space:pre;overflow-x:auto;line-height:normal;font-family:Menlo,'DejaVu Sans Mono',consolas,'Courier New',monospace\">expt_2, </pre>\n"
      ],
      "text/plain": [
       "expt_2, "
      ]
     },
     "metadata": {},
     "output_type": "display_data"
    },
    {
     "data": {
      "text/html": [
       "<pre style=\"white-space:pre;overflow-x:auto;line-height:normal;font-family:Menlo,'DejaVu Sans Mono',consolas,'Courier New',monospace\">expt_3, </pre>\n"
      ],
      "text/plain": [
       "expt_3, "
      ]
     },
     "metadata": {},
     "output_type": "display_data"
    },
    {
     "data": {
      "text/html": [
       "<pre style=\"white-space:pre;overflow-x:auto;line-height:normal;font-family:Menlo,'DejaVu Sans Mono',consolas,'Courier New',monospace\">expt_4, </pre>\n"
      ],
      "text/plain": [
       "expt_4, "
      ]
     },
     "metadata": {},
     "output_type": "display_data"
    },
    {
     "data": {
      "text/html": [
       "<pre style=\"white-space:pre;overflow-x:auto;line-height:normal;font-family:Menlo,'DejaVu Sans Mono',consolas,'Courier New',monospace\">expt_5, </pre>\n"
      ],
      "text/plain": [
       "expt_5, "
      ]
     },
     "metadata": {},
     "output_type": "display_data"
    },
    {
     "data": {
      "text/html": [
       "<pre style=\"white-space:pre;overflow-x:auto;line-height:normal;font-family:Menlo,'DejaVu Sans Mono',consolas,'Courier New',monospace\">expt_6, </pre>\n"
      ],
      "text/plain": [
       "expt_6, "
      ]
     },
     "metadata": {},
     "output_type": "display_data"
    },
    {
     "data": {
      "text/html": [
       "<pre style=\"white-space:pre;overflow-x:auto;line-height:normal;font-family:Menlo,'DejaVu Sans Mono',consolas,'Courier New',monospace\">expt_7, </pre>\n"
      ],
      "text/plain": [
       "expt_7, "
      ]
     },
     "metadata": {},
     "output_type": "display_data"
    },
    {
     "data": {
      "text/html": [
       "<pre style=\"white-space:pre;overflow-x:auto;line-height:normal;font-family:Menlo,'DejaVu Sans Mono',consolas,'Courier New',monospace\">expt_8, </pre>\n"
      ],
      "text/plain": [
       "expt_8, "
      ]
     },
     "metadata": {},
     "output_type": "display_data"
    },
    {
     "data": {
      "text/html": [
       "<pre style=\"white-space:pre;overflow-x:auto;line-height:normal;font-family:Menlo,'DejaVu Sans Mono',consolas,'Courier New',monospace\">expt_9, </pre>\n"
      ],
      "text/plain": [
       "expt_9, "
      ]
     },
     "metadata": {},
     "output_type": "display_data"
    },
    {
     "data": {
      "text/html": [
       "<pre style=\"white-space:pre;overflow-x:auto;line-height:normal;font-family:Menlo,'DejaVu Sans Mono',consolas,'Courier New',monospace\">expt_10, </pre>\n"
      ],
      "text/plain": [
       "expt_10, "
      ]
     },
     "metadata": {},
     "output_type": "display_data"
    },
    {
     "data": {
      "text/html": [
       "<pre style=\"white-space:pre;overflow-x:auto;line-height:normal;font-family:Menlo,'DejaVu Sans Mono',consolas,'Courier New',monospace\">expt_11, </pre>\n"
      ],
      "text/plain": [
       "expt_11, "
      ]
     },
     "metadata": {},
     "output_type": "display_data"
    },
    {
     "data": {
      "text/html": [
       "<pre style=\"white-space:pre;overflow-x:auto;line-height:normal;font-family:Menlo,'DejaVu Sans Mono',consolas,'Courier New',monospace\">expt_12, </pre>\n"
      ],
      "text/plain": [
       "expt_12, "
      ]
     },
     "metadata": {},
     "output_type": "display_data"
    },
    {
     "data": {
      "text/html": [
       "<pre style=\"white-space:pre;overflow-x:auto;line-height:normal;font-family:Menlo,'DejaVu Sans Mono',consolas,'Courier New',monospace\">expt_13, </pre>\n"
      ],
      "text/plain": [
       "expt_13, "
      ]
     },
     "metadata": {},
     "output_type": "display_data"
    },
    {
     "data": {
      "text/html": [
       "<pre style=\"white-space:pre;overflow-x:auto;line-height:normal;font-family:Menlo,'DejaVu Sans Mono',consolas,'Courier New',monospace\">expt_14, </pre>\n"
      ],
      "text/plain": [
       "expt_14, "
      ]
     },
     "metadata": {},
     "output_type": "display_data"
    },
    {
     "data": {
      "text/html": [
       "<pre style=\"white-space:pre;overflow-x:auto;line-height:normal;font-family:Menlo,'DejaVu Sans Mono',consolas,'Courier New',monospace\">expt_15, </pre>\n"
      ],
      "text/plain": [
       "expt_15, "
      ]
     },
     "metadata": {},
     "output_type": "display_data"
    },
    {
     "data": {
      "text/html": [
       "<pre style=\"white-space:pre;overflow-x:auto;line-height:normal;font-family:Menlo,'DejaVu Sans Mono',consolas,'Courier New',monospace\">expt_16, </pre>\n"
      ],
      "text/plain": [
       "expt_16, "
      ]
     },
     "metadata": {},
     "output_type": "display_data"
    },
    {
     "data": {
      "text/html": [
       "<pre style=\"white-space:pre;overflow-x:auto;line-height:normal;font-family:Menlo,'DejaVu Sans Mono',consolas,'Courier New',monospace\">expt_17, </pre>\n"
      ],
      "text/plain": [
       "expt_17, "
      ]
     },
     "metadata": {},
     "output_type": "display_data"
    },
    {
     "data": {
      "text/html": [
       "<pre style=\"white-space:pre;overflow-x:auto;line-height:normal;font-family:Menlo,'DejaVu Sans Mono',consolas,'Courier New',monospace\">expt_18, </pre>\n"
      ],
      "text/plain": [
       "expt_18, "
      ]
     },
     "metadata": {},
     "output_type": "display_data"
    },
    {
     "data": {
      "text/html": [
       "<pre style=\"white-space:pre;overflow-x:auto;line-height:normal;font-family:Menlo,'DejaVu Sans Mono',consolas,'Courier New',monospace\">expt_19, </pre>\n"
      ],
      "text/plain": [
       "expt_19, "
      ]
     },
     "metadata": {},
     "output_type": "display_data"
    },
    {
     "data": {
      "text/html": [
       "<pre style=\"white-space:pre;overflow-x:auto;line-height:normal;font-family:Menlo,'DejaVu Sans Mono',consolas,'Courier New',monospace\">expt_20, </pre>\n"
      ],
      "text/plain": [
       "expt_20, "
      ]
     },
     "metadata": {},
     "output_type": "display_data"
    },
    {
     "data": {
      "text/html": [
       "<pre style=\"white-space:pre;overflow-x:auto;line-height:normal;font-family:Menlo,'DejaVu Sans Mono',consolas,'Courier New',monospace\">expt_21, </pre>\n"
      ],
      "text/plain": [
       "expt_21, "
      ]
     },
     "metadata": {},
     "output_type": "display_data"
    },
    {
     "data": {
      "text/html": [
       "<pre style=\"white-space:pre;overflow-x:auto;line-height:normal;font-family:Menlo,'DejaVu Sans Mono',consolas,'Courier New',monospace\">expt_22, </pre>\n"
      ],
      "text/plain": [
       "expt_22, "
      ]
     },
     "metadata": {},
     "output_type": "display_data"
    },
    {
     "data": {
      "text/html": [
       "<pre style=\"white-space:pre;overflow-x:auto;line-height:normal;font-family:Menlo,'DejaVu Sans Mono',consolas,'Courier New',monospace\">expt_23, </pre>\n"
      ],
      "text/plain": [
       "expt_23, "
      ]
     },
     "metadata": {},
     "output_type": "display_data"
    },
    {
     "data": {
      "text/html": [
       "<pre style=\"white-space:pre;overflow-x:auto;line-height:normal;font-family:Menlo,'DejaVu Sans Mono',consolas,'Courier New',monospace\">expt_24, </pre>\n"
      ],
      "text/plain": [
       "expt_24, "
      ]
     },
     "metadata": {},
     "output_type": "display_data"
    },
    {
     "data": {
      "text/html": [
       "<pre style=\"white-space:pre;overflow-x:auto;line-height:normal;font-family:Menlo,'DejaVu Sans Mono',consolas,'Courier New',monospace\">expt_25, </pre>\n"
      ],
      "text/plain": [
       "expt_25, "
      ]
     },
     "metadata": {},
     "output_type": "display_data"
    },
    {
     "data": {
      "text/html": [
       "<pre style=\"white-space:pre;overflow-x:auto;line-height:normal;font-family:Menlo,'DejaVu Sans Mono',consolas,'Courier New',monospace\">expt_26, </pre>\n"
      ],
      "text/plain": [
       "expt_26, "
      ]
     },
     "metadata": {},
     "output_type": "display_data"
    },
    {
     "data": {
      "text/html": [
       "<pre style=\"white-space:pre;overflow-x:auto;line-height:normal;font-family:Menlo,'DejaVu Sans Mono',consolas,'Courier New',monospace\">expt_27, </pre>\n"
      ],
      "text/plain": [
       "expt_27, "
      ]
     },
     "metadata": {},
     "output_type": "display_data"
    },
    {
     "data": {
      "text/html": [
       "<pre style=\"white-space:pre;overflow-x:auto;line-height:normal;font-family:Menlo,'DejaVu Sans Mono',consolas,'Courier New',monospace\">expt_28, </pre>\n"
      ],
      "text/plain": [
       "expt_28, "
      ]
     },
     "metadata": {},
     "output_type": "display_data"
    },
    {
     "data": {
      "text/html": [
       "<pre style=\"white-space:pre;overflow-x:auto;line-height:normal;font-family:Menlo,'DejaVu Sans Mono',consolas,'Courier New',monospace\">t0_0, </pre>\n"
      ],
      "text/plain": [
       "t0_0, "
      ]
     },
     "metadata": {},
     "output_type": "display_data"
    },
    {
     "data": {
      "text/html": [
       "<pre style=\"white-space:pre;overflow-x:auto;line-height:normal;font-family:Menlo,'DejaVu Sans Mono',consolas,'Courier New',monospace\">t0_1, </pre>\n"
      ],
      "text/plain": [
       "t0_1, "
      ]
     },
     "metadata": {},
     "output_type": "display_data"
    },
    {
     "data": {
      "text/html": [
       "<pre style=\"white-space:pre;overflow-x:auto;line-height:normal;font-family:Menlo,'DejaVu Sans Mono',consolas,'Courier New',monospace\">t0_2, </pre>\n"
      ],
      "text/plain": [
       "t0_2, "
      ]
     },
     "metadata": {},
     "output_type": "display_data"
    },
    {
     "data": {
      "text/html": [
       "<pre style=\"white-space:pre;overflow-x:auto;line-height:normal;font-family:Menlo,'DejaVu Sans Mono',consolas,'Courier New',monospace\">t0_3, </pre>\n"
      ],
      "text/plain": [
       "t0_3, "
      ]
     },
     "metadata": {},
     "output_type": "display_data"
    },
    {
     "data": {
      "text/html": [
       "<pre style=\"white-space:pre;overflow-x:auto;line-height:normal;font-family:Menlo,'DejaVu Sans Mono',consolas,'Courier New',monospace\">t0_4, </pre>\n"
      ],
      "text/plain": [
       "t0_4, "
      ]
     },
     "metadata": {},
     "output_type": "display_data"
    },
    {
     "data": {
      "text/html": [
       "<pre style=\"white-space:pre;overflow-x:auto;line-height:normal;font-family:Menlo,'DejaVu Sans Mono',consolas,'Courier New',monospace\">t0_5, </pre>\n"
      ],
      "text/plain": [
       "t0_5, "
      ]
     },
     "metadata": {},
     "output_type": "display_data"
    },
    {
     "data": {
      "text/html": [
       "<pre style=\"white-space:pre;overflow-x:auto;line-height:normal;font-family:Menlo,'DejaVu Sans Mono',consolas,'Courier New',monospace\">t0_6, </pre>\n"
      ],
      "text/plain": [
       "t0_6, "
      ]
     },
     "metadata": {},
     "output_type": "display_data"
    },
    {
     "data": {
      "text/html": [
       "<pre style=\"white-space:pre;overflow-x:auto;line-height:normal;font-family:Menlo,'DejaVu Sans Mono',consolas,'Courier New',monospace\">t0_7, </pre>\n"
      ],
      "text/plain": [
       "t0_7, "
      ]
     },
     "metadata": {},
     "output_type": "display_data"
    },
    {
     "data": {
      "text/html": [
       "<pre style=\"white-space:pre;overflow-x:auto;line-height:normal;font-family:Menlo,'DejaVu Sans Mono',consolas,'Courier New',monospace\">t0_8, </pre>\n"
      ],
      "text/plain": [
       "t0_8, "
      ]
     },
     "metadata": {},
     "output_type": "display_data"
    },
    {
     "data": {
      "text/html": [
       "<pre style=\"white-space:pre;overflow-x:auto;line-height:normal;font-family:Menlo,'DejaVu Sans Mono',consolas,'Courier New',monospace\">t0_9, </pre>\n"
      ],
      "text/plain": [
       "t0_9, "
      ]
     },
     "metadata": {},
     "output_type": "display_data"
    },
    {
     "data": {
      "text/html": [
       "<pre style=\"white-space:pre;overflow-x:auto;line-height:normal;font-family:Menlo,'DejaVu Sans Mono',consolas,'Courier New',monospace\">t0_10, </pre>\n"
      ],
      "text/plain": [
       "t0_10, "
      ]
     },
     "metadata": {},
     "output_type": "display_data"
    },
    {
     "data": {
      "text/html": [
       "<pre style=\"white-space:pre;overflow-x:auto;line-height:normal;font-family:Menlo,'DejaVu Sans Mono',consolas,'Courier New',monospace\">t0_11, </pre>\n"
      ],
      "text/plain": [
       "t0_11, "
      ]
     },
     "metadata": {},
     "output_type": "display_data"
    },
    {
     "data": {
      "text/html": [
       "<pre style=\"white-space:pre;overflow-x:auto;line-height:normal;font-family:Menlo,'DejaVu Sans Mono',consolas,'Courier New',monospace\">t0_12, </pre>\n"
      ],
      "text/plain": [
       "t0_12, "
      ]
     },
     "metadata": {},
     "output_type": "display_data"
    },
    {
     "data": {
      "text/html": [
       "<pre style=\"white-space:pre;overflow-x:auto;line-height:normal;font-family:Menlo,'DejaVu Sans Mono',consolas,'Courier New',monospace\">t0_13, </pre>\n"
      ],
      "text/plain": [
       "t0_13, "
      ]
     },
     "metadata": {},
     "output_type": "display_data"
    },
    {
     "data": {
      "text/html": [
       "<pre style=\"white-space:pre;overflow-x:auto;line-height:normal;font-family:Menlo,'DejaVu Sans Mono',consolas,'Courier New',monospace\">t0_14, </pre>\n"
      ],
      "text/plain": [
       "t0_14, "
      ]
     },
     "metadata": {},
     "output_type": "display_data"
    },
    {
     "data": {
      "text/html": [
       "<pre style=\"white-space:pre;overflow-x:auto;line-height:normal;font-family:Menlo,'DejaVu Sans Mono',consolas,'Courier New',monospace\">t0_15, </pre>\n"
      ],
      "text/plain": [
       "t0_15, "
      ]
     },
     "metadata": {},
     "output_type": "display_data"
    },
    {
     "data": {
      "text/html": [
       "<pre style=\"white-space:pre;overflow-x:auto;line-height:normal;font-family:Menlo,'DejaVu Sans Mono',consolas,'Courier New',monospace\">t0_16, </pre>\n"
      ],
      "text/plain": [
       "t0_16, "
      ]
     },
     "metadata": {},
     "output_type": "display_data"
    },
    {
     "data": {
      "text/html": [
       "<pre style=\"white-space:pre;overflow-x:auto;line-height:normal;font-family:Menlo,'DejaVu Sans Mono',consolas,'Courier New',monospace\">t0_17, </pre>\n"
      ],
      "text/plain": [
       "t0_17, "
      ]
     },
     "metadata": {},
     "output_type": "display_data"
    },
    {
     "data": {
      "text/html": [
       "<pre style=\"white-space:pre;overflow-x:auto;line-height:normal;font-family:Menlo,'DejaVu Sans Mono',consolas,'Courier New',monospace\">t0_18, </pre>\n"
      ],
      "text/plain": [
       "t0_18, "
      ]
     },
     "metadata": {},
     "output_type": "display_data"
    },
    {
     "data": {
      "text/html": [
       "<pre style=\"white-space:pre;overflow-x:auto;line-height:normal;font-family:Menlo,'DejaVu Sans Mono',consolas,'Courier New',monospace\">t0_19, </pre>\n"
      ],
      "text/plain": [
       "t0_19, "
      ]
     },
     "metadata": {},
     "output_type": "display_data"
    },
    {
     "data": {
      "text/html": [
       "<pre style=\"white-space:pre;overflow-x:auto;line-height:normal;font-family:Menlo,'DejaVu Sans Mono',consolas,'Courier New',monospace\">t0_20, </pre>\n"
      ],
      "text/plain": [
       "t0_20, "
      ]
     },
     "metadata": {},
     "output_type": "display_data"
    },
    {
     "data": {
      "text/html": [
       "<pre style=\"white-space:pre;overflow-x:auto;line-height:normal;font-family:Menlo,'DejaVu Sans Mono',consolas,'Courier New',monospace\">t0_21, </pre>\n"
      ],
      "text/plain": [
       "t0_21, "
      ]
     },
     "metadata": {},
     "output_type": "display_data"
    },
    {
     "data": {
      "text/html": [
       "<pre style=\"white-space:pre;overflow-x:auto;line-height:normal;font-family:Menlo,'DejaVu Sans Mono',consolas,'Courier New',monospace\">t0_22, </pre>\n"
      ],
      "text/plain": [
       "t0_22, "
      ]
     },
     "metadata": {},
     "output_type": "display_data"
    },
    {
     "data": {
      "text/html": [
       "<pre style=\"white-space:pre;overflow-x:auto;line-height:normal;font-family:Menlo,'DejaVu Sans Mono',consolas,'Courier New',monospace\">t0_23, </pre>\n"
      ],
      "text/plain": [
       "t0_23, "
      ]
     },
     "metadata": {},
     "output_type": "display_data"
    },
    {
     "data": {
      "text/html": [
       "<pre style=\"white-space:pre;overflow-x:auto;line-height:normal;font-family:Menlo,'DejaVu Sans Mono',consolas,'Courier New',monospace\">t0_24, </pre>\n"
      ],
      "text/plain": [
       "t0_24, "
      ]
     },
     "metadata": {},
     "output_type": "display_data"
    },
    {
     "data": {
      "text/html": [
       "<pre style=\"white-space:pre;overflow-x:auto;line-height:normal;font-family:Menlo,'DejaVu Sans Mono',consolas,'Courier New',monospace\">t0_25, </pre>\n"
      ],
      "text/plain": [
       "t0_25, "
      ]
     },
     "metadata": {},
     "output_type": "display_data"
    },
    {
     "data": {
      "text/html": [
       "<pre style=\"white-space:pre;overflow-x:auto;line-height:normal;font-family:Menlo,'DejaVu Sans Mono',consolas,'Courier New',monospace\">t0_26, </pre>\n"
      ],
      "text/plain": [
       "t0_26, "
      ]
     },
     "metadata": {},
     "output_type": "display_data"
    },
    {
     "data": {
      "text/html": [
       "<pre style=\"white-space:pre;overflow-x:auto;line-height:normal;font-family:Menlo,'DejaVu Sans Mono',consolas,'Courier New',monospace\">t0_27, </pre>\n"
      ],
      "text/plain": [
       "t0_27, "
      ]
     },
     "metadata": {},
     "output_type": "display_data"
    },
    {
     "data": {
      "text/html": [
       "<pre style=\"white-space:pre;overflow-x:auto;line-height:normal;font-family:Menlo,'DejaVu Sans Mono',consolas,'Courier New',monospace\">t0_28, </pre>\n"
      ],
      "text/plain": [
       "t0_28, "
      ]
     },
     "metadata": {},
     "output_type": "display_data"
    },
    {
     "data": {
      "text/html": [
       "<pre style=\"white-space:pre;overflow-x:auto;line-height:normal;font-family:Menlo,'DejaVu Sans Mono',consolas,'Courier New',monospace\">t1_0, </pre>\n"
      ],
      "text/plain": [
       "t1_0, "
      ]
     },
     "metadata": {},
     "output_type": "display_data"
    },
    {
     "data": {
      "text/html": [
       "<pre style=\"white-space:pre;overflow-x:auto;line-height:normal;font-family:Menlo,'DejaVu Sans Mono',consolas,'Courier New',monospace\">t1_1, </pre>\n"
      ],
      "text/plain": [
       "t1_1, "
      ]
     },
     "metadata": {},
     "output_type": "display_data"
    },
    {
     "data": {
      "text/html": [
       "<pre style=\"white-space:pre;overflow-x:auto;line-height:normal;font-family:Menlo,'DejaVu Sans Mono',consolas,'Courier New',monospace\">t1_2, </pre>\n"
      ],
      "text/plain": [
       "t1_2, "
      ]
     },
     "metadata": {},
     "output_type": "display_data"
    },
    {
     "data": {
      "text/html": [
       "<pre style=\"white-space:pre;overflow-x:auto;line-height:normal;font-family:Menlo,'DejaVu Sans Mono',consolas,'Courier New',monospace\">t1_3, </pre>\n"
      ],
      "text/plain": [
       "t1_3, "
      ]
     },
     "metadata": {},
     "output_type": "display_data"
    },
    {
     "data": {
      "text/html": [
       "<pre style=\"white-space:pre;overflow-x:auto;line-height:normal;font-family:Menlo,'DejaVu Sans Mono',consolas,'Courier New',monospace\">t1_4, </pre>\n"
      ],
      "text/plain": [
       "t1_4, "
      ]
     },
     "metadata": {},
     "output_type": "display_data"
    },
    {
     "data": {
      "text/html": [
       "<pre style=\"white-space:pre;overflow-x:auto;line-height:normal;font-family:Menlo,'DejaVu Sans Mono',consolas,'Courier New',monospace\">t1_5, </pre>\n"
      ],
      "text/plain": [
       "t1_5, "
      ]
     },
     "metadata": {},
     "output_type": "display_data"
    },
    {
     "data": {
      "text/html": [
       "<pre style=\"white-space:pre;overflow-x:auto;line-height:normal;font-family:Menlo,'DejaVu Sans Mono',consolas,'Courier New',monospace\">t1_6, </pre>\n"
      ],
      "text/plain": [
       "t1_6, "
      ]
     },
     "metadata": {},
     "output_type": "display_data"
    },
    {
     "data": {
      "text/html": [
       "<pre style=\"white-space:pre;overflow-x:auto;line-height:normal;font-family:Menlo,'DejaVu Sans Mono',consolas,'Courier New',monospace\">t1_7, </pre>\n"
      ],
      "text/plain": [
       "t1_7, "
      ]
     },
     "metadata": {},
     "output_type": "display_data"
    },
    {
     "data": {
      "text/html": [
       "<pre style=\"white-space:pre;overflow-x:auto;line-height:normal;font-family:Menlo,'DejaVu Sans Mono',consolas,'Courier New',monospace\">t1_8, </pre>\n"
      ],
      "text/plain": [
       "t1_8, "
      ]
     },
     "metadata": {},
     "output_type": "display_data"
    },
    {
     "data": {
      "text/html": [
       "<pre style=\"white-space:pre;overflow-x:auto;line-height:normal;font-family:Menlo,'DejaVu Sans Mono',consolas,'Courier New',monospace\">t1_9, </pre>\n"
      ],
      "text/plain": [
       "t1_9, "
      ]
     },
     "metadata": {},
     "output_type": "display_data"
    },
    {
     "data": {
      "text/html": [
       "<pre style=\"white-space:pre;overflow-x:auto;line-height:normal;font-family:Menlo,'DejaVu Sans Mono',consolas,'Courier New',monospace\">t1_10, </pre>\n"
      ],
      "text/plain": [
       "t1_10, "
      ]
     },
     "metadata": {},
     "output_type": "display_data"
    },
    {
     "data": {
      "text/html": [
       "<pre style=\"white-space:pre;overflow-x:auto;line-height:normal;font-family:Menlo,'DejaVu Sans Mono',consolas,'Courier New',monospace\">t1_11, </pre>\n"
      ],
      "text/plain": [
       "t1_11, "
      ]
     },
     "metadata": {},
     "output_type": "display_data"
    },
    {
     "data": {
      "text/html": [
       "<pre style=\"white-space:pre;overflow-x:auto;line-height:normal;font-family:Menlo,'DejaVu Sans Mono',consolas,'Courier New',monospace\">t1_12, </pre>\n"
      ],
      "text/plain": [
       "t1_12, "
      ]
     },
     "metadata": {},
     "output_type": "display_data"
    },
    {
     "data": {
      "text/html": [
       "<pre style=\"white-space:pre;overflow-x:auto;line-height:normal;font-family:Menlo,'DejaVu Sans Mono',consolas,'Courier New',monospace\">t1_13, </pre>\n"
      ],
      "text/plain": [
       "t1_13, "
      ]
     },
     "metadata": {},
     "output_type": "display_data"
    },
    {
     "data": {
      "text/html": [
       "<pre style=\"white-space:pre;overflow-x:auto;line-height:normal;font-family:Menlo,'DejaVu Sans Mono',consolas,'Courier New',monospace\">t1_14, </pre>\n"
      ],
      "text/plain": [
       "t1_14, "
      ]
     },
     "metadata": {},
     "output_type": "display_data"
    },
    {
     "data": {
      "text/html": [
       "<pre style=\"white-space:pre;overflow-x:auto;line-height:normal;font-family:Menlo,'DejaVu Sans Mono',consolas,'Courier New',monospace\">t1_15, </pre>\n"
      ],
      "text/plain": [
       "t1_15, "
      ]
     },
     "metadata": {},
     "output_type": "display_data"
    },
    {
     "data": {
      "text/html": [
       "<pre style=\"white-space:pre;overflow-x:auto;line-height:normal;font-family:Menlo,'DejaVu Sans Mono',consolas,'Courier New',monospace\">t1_16, </pre>\n"
      ],
      "text/plain": [
       "t1_16, "
      ]
     },
     "metadata": {},
     "output_type": "display_data"
    },
    {
     "data": {
      "text/html": [
       "<pre style=\"white-space:pre;overflow-x:auto;line-height:normal;font-family:Menlo,'DejaVu Sans Mono',consolas,'Courier New',monospace\">t1_17, </pre>\n"
      ],
      "text/plain": [
       "t1_17, "
      ]
     },
     "metadata": {},
     "output_type": "display_data"
    },
    {
     "data": {
      "text/html": [
       "<pre style=\"white-space:pre;overflow-x:auto;line-height:normal;font-family:Menlo,'DejaVu Sans Mono',consolas,'Courier New',monospace\">t1_18, </pre>\n"
      ],
      "text/plain": [
       "t1_18, "
      ]
     },
     "metadata": {},
     "output_type": "display_data"
    },
    {
     "data": {
      "text/html": [
       "<pre style=\"white-space:pre;overflow-x:auto;line-height:normal;font-family:Menlo,'DejaVu Sans Mono',consolas,'Courier New',monospace\">t1_19, </pre>\n"
      ],
      "text/plain": [
       "t1_19, "
      ]
     },
     "metadata": {},
     "output_type": "display_data"
    },
    {
     "data": {
      "text/html": [
       "<pre style=\"white-space:pre;overflow-x:auto;line-height:normal;font-family:Menlo,'DejaVu Sans Mono',consolas,'Courier New',monospace\">t1_20, </pre>\n"
      ],
      "text/plain": [
       "t1_20, "
      ]
     },
     "metadata": {},
     "output_type": "display_data"
    },
    {
     "data": {
      "text/html": [
       "<pre style=\"white-space:pre;overflow-x:auto;line-height:normal;font-family:Menlo,'DejaVu Sans Mono',consolas,'Courier New',monospace\">t1_21, </pre>\n"
      ],
      "text/plain": [
       "t1_21, "
      ]
     },
     "metadata": {},
     "output_type": "display_data"
    },
    {
     "data": {
      "text/html": [
       "<pre style=\"white-space:pre;overflow-x:auto;line-height:normal;font-family:Menlo,'DejaVu Sans Mono',consolas,'Courier New',monospace\">t1_22, </pre>\n"
      ],
      "text/plain": [
       "t1_22, "
      ]
     },
     "metadata": {},
     "output_type": "display_data"
    },
    {
     "data": {
      "text/html": [
       "<pre style=\"white-space:pre;overflow-x:auto;line-height:normal;font-family:Menlo,'DejaVu Sans Mono',consolas,'Courier New',monospace\">t1_23, </pre>\n"
      ],
      "text/plain": [
       "t1_23, "
      ]
     },
     "metadata": {},
     "output_type": "display_data"
    },
    {
     "data": {
      "text/html": [
       "<pre style=\"white-space:pre;overflow-x:auto;line-height:normal;font-family:Menlo,'DejaVu Sans Mono',consolas,'Courier New',monospace\">t1_24, </pre>\n"
      ],
      "text/plain": [
       "t1_24, "
      ]
     },
     "metadata": {},
     "output_type": "display_data"
    },
    {
     "data": {
      "text/html": [
       "<pre style=\"white-space:pre;overflow-x:auto;line-height:normal;font-family:Menlo,'DejaVu Sans Mono',consolas,'Courier New',monospace\">t1_25, </pre>\n"
      ],
      "text/plain": [
       "t1_25, "
      ]
     },
     "metadata": {},
     "output_type": "display_data"
    },
    {
     "data": {
      "text/html": [
       "<pre style=\"white-space:pre;overflow-x:auto;line-height:normal;font-family:Menlo,'DejaVu Sans Mono',consolas,'Courier New',monospace\">t1_26, </pre>\n"
      ],
      "text/plain": [
       "t1_26, "
      ]
     },
     "metadata": {},
     "output_type": "display_data"
    },
    {
     "data": {
      "text/html": [
       "<pre style=\"white-space:pre;overflow-x:auto;line-height:normal;font-family:Menlo,'DejaVu Sans Mono',consolas,'Courier New',monospace\">t1_27, </pre>\n"
      ],
      "text/plain": [
       "t1_27, "
      ]
     },
     "metadata": {},
     "output_type": "display_data"
    },
    {
     "data": {
      "text/html": [
       "<pre style=\"white-space:pre;overflow-x:auto;line-height:normal;font-family:Menlo,'DejaVu Sans Mono',consolas,'Courier New',monospace\">t1_28, </pre>\n"
      ],
      "text/plain": [
       "t1_28, "
      ]
     },
     "metadata": {},
     "output_type": "display_data"
    },
    {
     "data": {
      "text/html": [
       "<pre style=\"white-space:pre;overflow-x:auto;line-height:normal;font-family:Menlo,'DejaVu Sans Mono',consolas,'Courier New',monospace\">artifact_flag_0, </pre>\n"
      ],
      "text/plain": [
       "artifact_flag_0, "
      ]
     },
     "metadata": {},
     "output_type": "display_data"
    },
    {
     "data": {
      "text/html": [
       "<pre style=\"white-space:pre;overflow-x:auto;line-height:normal;font-family:Menlo,'DejaVu Sans Mono',consolas,'Courier New',monospace\">artifact_flag_1, </pre>\n"
      ],
      "text/plain": [
       "artifact_flag_1, "
      ]
     },
     "metadata": {},
     "output_type": "display_data"
    },
    {
     "data": {
      "text/html": [
       "<pre style=\"white-space:pre;overflow-x:auto;line-height:normal;font-family:Menlo,'DejaVu Sans Mono',consolas,'Courier New',monospace\">artifact_flag_2, </pre>\n"
      ],
      "text/plain": [
       "artifact_flag_2, "
      ]
     },
     "metadata": {},
     "output_type": "display_data"
    },
    {
     "data": {
      "text/html": [
       "<pre style=\"white-space:pre;overflow-x:auto;line-height:normal;font-family:Menlo,'DejaVu Sans Mono',consolas,'Courier New',monospace\">artifact_flag_3, </pre>\n"
      ],
      "text/plain": [
       "artifact_flag_3, "
      ]
     },
     "metadata": {},
     "output_type": "display_data"
    },
    {
     "data": {
      "text/html": [
       "<pre style=\"white-space:pre;overflow-x:auto;line-height:normal;font-family:Menlo,'DejaVu Sans Mono',consolas,'Courier New',monospace\">artifact_flag_4, </pre>\n"
      ],
      "text/plain": [
       "artifact_flag_4, "
      ]
     },
     "metadata": {},
     "output_type": "display_data"
    },
    {
     "data": {
      "text/html": [
       "<pre style=\"white-space:pre;overflow-x:auto;line-height:normal;font-family:Menlo,'DejaVu Sans Mono',consolas,'Courier New',monospace\">artifact_flag_5, </pre>\n"
      ],
      "text/plain": [
       "artifact_flag_5, "
      ]
     },
     "metadata": {},
     "output_type": "display_data"
    },
    {
     "data": {
      "text/html": [
       "<pre style=\"white-space:pre;overflow-x:auto;line-height:normal;font-family:Menlo,'DejaVu Sans Mono',consolas,'Courier New',monospace\">artifact_flag_6, </pre>\n"
      ],
      "text/plain": [
       "artifact_flag_6, "
      ]
     },
     "metadata": {},
     "output_type": "display_data"
    },
    {
     "data": {
      "text/html": [
       "<pre style=\"white-space:pre;overflow-x:auto;line-height:normal;font-family:Menlo,'DejaVu Sans Mono',consolas,'Courier New',monospace\">artifact_flag_7, </pre>\n"
      ],
      "text/plain": [
       "artifact_flag_7, "
      ]
     },
     "metadata": {},
     "output_type": "display_data"
    },
    {
     "data": {
      "text/html": [
       "<pre style=\"white-space:pre;overflow-x:auto;line-height:normal;font-family:Menlo,'DejaVu Sans Mono',consolas,'Courier New',monospace\">artifact_flag_8, </pre>\n"
      ],
      "text/plain": [
       "artifact_flag_8, "
      ]
     },
     "metadata": {},
     "output_type": "display_data"
    },
    {
     "data": {
      "text/html": [
       "<pre style=\"white-space:pre;overflow-x:auto;line-height:normal;font-family:Menlo,'DejaVu Sans Mono',consolas,'Courier New',monospace\">artifact_flag_9, </pre>\n"
      ],
      "text/plain": [
       "artifact_flag_9, "
      ]
     },
     "metadata": {},
     "output_type": "display_data"
    },
    {
     "data": {
      "text/html": [
       "<pre style=\"white-space:pre;overflow-x:auto;line-height:normal;font-family:Menlo,'DejaVu Sans Mono',consolas,'Courier New',monospace\">artifact_flag_10, </pre>\n"
      ],
      "text/plain": [
       "artifact_flag_10, "
      ]
     },
     "metadata": {},
     "output_type": "display_data"
    },
    {
     "data": {
      "text/html": [
       "<pre style=\"white-space:pre;overflow-x:auto;line-height:normal;font-family:Menlo,'DejaVu Sans Mono',consolas,'Courier New',monospace\">artifact_flag_11, </pre>\n"
      ],
      "text/plain": [
       "artifact_flag_11, "
      ]
     },
     "metadata": {},
     "output_type": "display_data"
    },
    {
     "data": {
      "text/html": [
       "<pre style=\"white-space:pre;overflow-x:auto;line-height:normal;font-family:Menlo,'DejaVu Sans Mono',consolas,'Courier New',monospace\">artifact_flag_12, </pre>\n"
      ],
      "text/plain": [
       "artifact_flag_12, "
      ]
     },
     "metadata": {},
     "output_type": "display_data"
    },
    {
     "data": {
      "text/html": [
       "<pre style=\"white-space:pre;overflow-x:auto;line-height:normal;font-family:Menlo,'DejaVu Sans Mono',consolas,'Courier New',monospace\">artifact_flag_13, </pre>\n"
      ],
      "text/plain": [
       "artifact_flag_13, "
      ]
     },
     "metadata": {},
     "output_type": "display_data"
    },
    {
     "data": {
      "text/html": [
       "<pre style=\"white-space:pre;overflow-x:auto;line-height:normal;font-family:Menlo,'DejaVu Sans Mono',consolas,'Courier New',monospace\">artifact_flag_14, </pre>\n"
      ],
      "text/plain": [
       "artifact_flag_14, "
      ]
     },
     "metadata": {},
     "output_type": "display_data"
    },
    {
     "data": {
      "text/html": [
       "<pre style=\"white-space:pre;overflow-x:auto;line-height:normal;font-family:Menlo,'DejaVu Sans Mono',consolas,'Courier New',monospace\">artifact_flag_15, </pre>\n"
      ],
      "text/plain": [
       "artifact_flag_15, "
      ]
     },
     "metadata": {},
     "output_type": "display_data"
    },
    {
     "data": {
      "text/html": [
       "<pre style=\"white-space:pre;overflow-x:auto;line-height:normal;font-family:Menlo,'DejaVu Sans Mono',consolas,'Courier New',monospace\">artifact_flag_16, </pre>\n"
      ],
      "text/plain": [
       "artifact_flag_16, "
      ]
     },
     "metadata": {},
     "output_type": "display_data"
    },
    {
     "data": {
      "text/html": [
       "<pre style=\"white-space:pre;overflow-x:auto;line-height:normal;font-family:Menlo,'DejaVu Sans Mono',consolas,'Courier New',monospace\">artifact_flag_17, </pre>\n"
      ],
      "text/plain": [
       "artifact_flag_17, "
      ]
     },
     "metadata": {},
     "output_type": "display_data"
    },
    {
     "data": {
      "text/html": [
       "<pre style=\"white-space:pre;overflow-x:auto;line-height:normal;font-family:Menlo,'DejaVu Sans Mono',consolas,'Courier New',monospace\">artifact_flag_18, </pre>\n"
      ],
      "text/plain": [
       "artifact_flag_18, "
      ]
     },
     "metadata": {},
     "output_type": "display_data"
    },
    {
     "data": {
      "text/html": [
       "<pre style=\"white-space:pre;overflow-x:auto;line-height:normal;font-family:Menlo,'DejaVu Sans Mono',consolas,'Courier New',monospace\">artifact_flag_19, </pre>\n"
      ],
      "text/plain": [
       "artifact_flag_19, "
      ]
     },
     "metadata": {},
     "output_type": "display_data"
    },
    {
     "data": {
      "text/html": [
       "<pre style=\"white-space:pre;overflow-x:auto;line-height:normal;font-family:Menlo,'DejaVu Sans Mono',consolas,'Courier New',monospace\">artifact_flag_20, </pre>\n"
      ],
      "text/plain": [
       "artifact_flag_20, "
      ]
     },
     "metadata": {},
     "output_type": "display_data"
    },
    {
     "data": {
      "text/html": [
       "<pre style=\"white-space:pre;overflow-x:auto;line-height:normal;font-family:Menlo,'DejaVu Sans Mono',consolas,'Courier New',monospace\">artifact_flag_21, </pre>\n"
      ],
      "text/plain": [
       "artifact_flag_21, "
      ]
     },
     "metadata": {},
     "output_type": "display_data"
    },
    {
     "data": {
      "text/html": [
       "<pre style=\"white-space:pre;overflow-x:auto;line-height:normal;font-family:Menlo,'DejaVu Sans Mono',consolas,'Courier New',monospace\">artifact_flag_22, </pre>\n"
      ],
      "text/plain": [
       "artifact_flag_22, "
      ]
     },
     "metadata": {},
     "output_type": "display_data"
    },
    {
     "data": {
      "text/html": [
       "<pre style=\"white-space:pre;overflow-x:auto;line-height:normal;font-family:Menlo,'DejaVu Sans Mono',consolas,'Courier New',monospace\">artifact_flag_23, </pre>\n"
      ],
      "text/plain": [
       "artifact_flag_23, "
      ]
     },
     "metadata": {},
     "output_type": "display_data"
    },
    {
     "data": {
      "text/html": [
       "<pre style=\"white-space:pre;overflow-x:auto;line-height:normal;font-family:Menlo,'DejaVu Sans Mono',consolas,'Courier New',monospace\">artifact_flag_24, </pre>\n"
      ],
      "text/plain": [
       "artifact_flag_24, "
      ]
     },
     "metadata": {},
     "output_type": "display_data"
    },
    {
     "data": {
      "text/html": [
       "<pre style=\"white-space:pre;overflow-x:auto;line-height:normal;font-family:Menlo,'DejaVu Sans Mono',consolas,'Courier New',monospace\">artifact_flag_25, </pre>\n"
      ],
      "text/plain": [
       "artifact_flag_25, "
      ]
     },
     "metadata": {},
     "output_type": "display_data"
    },
    {
     "data": {
      "text/html": [
       "<pre style=\"white-space:pre;overflow-x:auto;line-height:normal;font-family:Menlo,'DejaVu Sans Mono',consolas,'Courier New',monospace\">artifact_flag_26, </pre>\n"
      ],
      "text/plain": [
       "artifact_flag_26, "
      ]
     },
     "metadata": {},
     "output_type": "display_data"
    },
    {
     "data": {
      "text/html": [
       "<pre style=\"white-space:pre;overflow-x:auto;line-height:normal;font-family:Menlo,'DejaVu Sans Mono',consolas,'Courier New',monospace\">artifact_flag_27, </pre>\n"
      ],
      "text/plain": [
       "artifact_flag_27, "
      ]
     },
     "metadata": {},
     "output_type": "display_data"
    },
    {
     "data": {
      "text/html": [
       "<pre style=\"white-space:pre;overflow-x:auto;line-height:normal;font-family:Menlo,'DejaVu Sans Mono',consolas,'Courier New',monospace\">artifact_flag_28, </pre>\n"
      ],
      "text/plain": [
       "artifact_flag_28, "
      ]
     },
     "metadata": {},
     "output_type": "display_data"
    },
    {
     "data": {
      "text/html": [
       "<pre style=\"white-space:pre;overflow-x:auto;line-height:normal;font-family:Menlo,'DejaVu Sans Mono',consolas,'Courier New',monospace\">\n",
       "</pre>\n"
      ],
      "text/plain": [
       "\n"
      ]
     },
     "metadata": {},
     "output_type": "display_data"
    }
   ],
   "source": [
    "for k in aper4_photom.columns:\n",
    "    print(k, end=', ')\n",
    "print()"
   ]
  },
  {
   "cell_type": "markdown",
   "id": "5112528d",
   "metadata": {},
   "source": [
    "### Photometry on the full depth observation"
   ]
  },
  {
   "cell_type": "code",
   "execution_count": 3,
   "id": "c7483dc9",
   "metadata": {},
   "outputs": [],
   "source": [
    "photom_aper4 = pd.read_csv(photomfiles['APER4'])\n",
    "# The following will be unnecessary once `expt` is added as a column\n",
    "nframes = len([True for k in photom_aper4.keys() if 'expt_' in k])\n",
    "expt_total = sum([photom_aper4[k][0] for k in photom_aper4.keys() if 'expt_' in k])\n",
    "photom_aper4['expt'] = pd.Series(np.full(len(photom_aper4),\n",
    "                                         expt_total))\n",
    "# Note that the `expt` is the same for all sources in an observation\n",
    "# This means that it will only be valid for sources observed _at full depth_\n",
    "# We will explain how to screen sources that were not observed at full depth later"
   ]
  },
  {
   "cell_type": "code",
   "execution_count": 4,
   "id": "5548a1b1",
   "metadata": {},
   "outputs": [
    {
     "name": "stdout",
     "output_type": "stream",
     "text": [
      "range: 0.5418304085734884 563.4274167920412\n"
     ]
    },
    {
     "data": {
      "image/png": "[encoded data removed]",
      "text/plain": [
       "<Figure size 640x480 with 1 Axes>"
      ]
     },
     "metadata": {},
     "output_type": "display_data"
    }
   ],
   "source": [
    "# Counts per second is just aperture_sum / expt\n",
    "counts_per_second_aper4 = photom_aper4['aperture_sum'] / photom_aper4['expt']\n",
    "print('range:',\n",
    "      np.nanmin(counts_per_second_aper4),\n",
    "      counts_per_second_aper4.iloc[np.where(np.isfinite(counts_per_second_aper4))].max())\n",
    "plt.hist(counts_per_second_aper4, bins=30, range=(0.5,4))\n",
    "plt.title('Countrate (cps) in 12.8\" aperture')\n",
    "\n",
    "# The standard error is just sqrt(N)/expt\n",
    "counts_per_second_std_err_aper4 = np.sqrt(photom_aper4['aperture_sum']) / photom_aper4['expt']"
   ]
  },
  {
   "cell_type": "code",
   "execution_count": 5,
   "id": "185c675b",
   "metadata": {},
   "outputs": [
    {
     "name": "stdout",
     "output_type": "stream",
     "text": [
      "range: 0.555401522739948 36.15925211424764\n"
     ]
    },
    {
     "data": {
      "image/png": "[encoded data removed]",
      "text/plain": [
       "<Figure size 640x480 with 1 Axes>"
      ]
     },
     "metadata": {},
     "output_type": "display_data"
    }
   ],
   "source": [
    "# Estimate background in an annulus\n",
    "photom_aper5 = pd.read_csv(photomfiles['APER5'])\n",
    "photom_aper6 = pd.read_csv(photomfiles['APER6'])\n",
    "# exposure time should be the same for all apertures\n",
    "counts_per_second_aper5 = photom_aper5['aperture_sum'] / photom_aper4['expt']\n",
    "counts_per_second_aper6 = photom_aper6['aperture_sum'] / photom_aper4['expt']\n",
    "\n",
    "aperture_area = np.pi*(12.8**2)\n",
    "annulus_area = np.pi*(30.0**2 - 17.3**2)\n",
    "aperture_sum_aper5 = photom_aper5['aperture_sum']\n",
    "aperture_sum_aper6 = photom_aper6['aperture_sum']\n",
    "background_counts_per_second_aper4 = (aperture_sum_aper6 - aperture_sum_aper5) * (aperture_area / annulus_area) / photom_aper4['expt']\n",
    "\n",
    "print('range:',\n",
    "      np.nanmin(background_counts_per_second_aper4),\n",
    "      background_counts_per_second_aper4.iloc[np.where(np.isfinite(background_counts_per_second_aper4))].max())\n",
    "plt.hist(background_counts_per_second_aper4, bins=30, range=(0.5,4))\n",
    "plt.title(f'Background countrate (cps) in 12.8\" aperture\\nEstimated from annulus of [17.3\",30.0\"]')\n",
    "\n",
    "# The standard error is just sqrt(N)/expt\n",
    "background_counts_per_second_std_err_aper4 = np.sqrt(aperture_sum_aper6 - aperture_sum_aper5) / photom_aper4['expt']\n"
   ]
  },
  {
   "cell_type": "code",
   "execution_count": 6,
   "id": "c62dd754",
   "metadata": {},
   "outputs": [
    {
     "name": "stdout",
     "output_type": "stream",
     "text": [
      "range: -31.167074239470303 553.3936219571112\n"
     ]
    },
    {
     "data": {
      "image/png": "[encoded data removed]",
      "text/plain": [
       "<Figure size 640x480 with 1 Axes>"
      ]
     },
     "metadata": {},
     "output_type": "display_data"
    }
   ],
   "source": [
    "# Calculate the background-subtracted countrate\n",
    "counts_per_second_bgsub_aper4 = counts_per_second_aper4 - background_counts_per_second_aper4\n",
    "print('range:',\n",
    "      counts_per_second_bgsub_aper4.iloc[np.where(np.isfinite(counts_per_second_bgsub_aper4))].min(),\n",
    "      counts_per_second_bgsub_aper4.iloc[np.where(np.isfinite(counts_per_second_bgsub_aper4))].max())\n",
    "plt.hist(counts_per_second_bgsub_aper4, bins=30, range=(-1,4))\n",
    "plt.title('Background-subtracted countrate (cps) in 12.8\" aperture')\n",
    "\n",
    "# The standard error is computed by addition in quadrature\n",
    "counts_per_second_bgsub_std_err_aper4 = np.sqrt(counts_per_second_std_err_aper4**2 + background_counts_per_second_std_err_aper4**2) / photom_aper4['expt']"
   ]
  },
  {
   "cell_type": "markdown",
   "id": "9c01084b",
   "metadata": {},
   "source": [
    "You will have noted that doing background estimation and subtraction in this way generates a large number of _negative_ fluxes. This is due to three main factors.\n",
    "1. The annulus capturing some of the light of the main source.\n",
    "2. Sources contaminating the annulus with stray light.\n",
    "3. Failure to take into account that the GALEX diffuse sky background is Poissonian (mostly).\n",
    "\n",
    "We will attempt to mitigate these problems in the next notebook by using a better model."
   ]
  },
  {
   "cell_type": "code",
   "execution_count": null,
   "id": "7448ab70",
   "metadata": {},
   "outputs": [],
   "source": []
  },
  {
   "cell_type": "markdown",
   "id": "074db8d1",
   "metadata": {},
   "source": [
    "### Aperture corrections\n",
    "\n",
    "There are two published aperture correction tables. Both map an aperture correction to the standard GALEX aperture radii in both bands.\n",
    "\n",
    "The first is described in Figure 4 from Morissey, et al., 2007. It maps to `APER[0-9]`. We believe that this is the more reliable of the published aperture corrections, and it is the one that the mission team used.\n",
    "\n",
    "The second is described in Table 1 from http://www.galex.caltech.edu/researcher/techdoc-ch5.html. It only maps to `APER[0-6]`, which are the apertures most appropriate for the majority of scientific analyses.\n",
    "\n",
    "The following functions take an aperture radius in decimal degrees and interpolate a aperture correction based on these two published references. You can see that the proposed corrections different quite a lot."
   ]
  },
  {
   "cell_type": "code",
   "execution_count": null,
   "id": "98d02b8d",
   "metadata": {},
   "outputs": [
    {
     "name": "stdout",
     "output_type": "stream",
     "text": [
      "Aperture correction (method 1, Morissey+2007): 0.090 mag (BEST OPTION)\n",
      "Aperture correction (method 2, GALEX tech doc): 0.060 mag\n"
     ]
    }
   ],
   "source": [
    "# In our example we use a 12.8\" aperture, which is 12.8/3600 degrees\n",
    "aperture_radius = 12.8/3600.\n",
    "apcor1 = analysis.utils.apcorrect1(aperture_radius, 'NUV')\n",
    "apcor2 = analysis.utils.apcorrect2(aperture_radius, 'NUV')\n",
    "print(f'Aperture correction (method 1, Morissey+2007): {apcor1:.3f} mag (BEST OPTION)')\n",
    "print(f'Aperture correction (method 2, GALEX tech doc): {apcor2:.3f} mag')"
   ]
  },
  {
   "cell_type": "code",
   "execution_count": null,
   "id": "33b89c91",
   "metadata": {},
   "outputs": [],
   "source": [
    "# In cps or linear flux units, the aperture correction is just a multiplicative factor\n",
    "counts_per_second_bgsub_aper4_corrected = counts_per_second_bgsub_aper4 * (1 + apcor1)"
   ]
  },
  {
   "cell_type": "markdown",
   "id": "af48b576",
   "metadata": {},
   "source": [
    "The uncertainties associated with the aperture corrections are unknown.\n",
    "\n",
    "In magnitudes, the aperture correction should be _subtracted_. We'll discuss how to convert to magnitude units next."
   ]
  },
  {
   "cell_type": "markdown",
   "id": "3109d009",
   "metadata": {},
   "source": [
    "### Converting to other flux units\n",
    "\n",
    "The conversion facts from counts-per-second (cps) to other standard flux units are described at http://asd.gsfc.nasa.gov/archive/galex/FAQ/counts_background.html.\n",
    "\n",
    "The following functions will convert between cps, AB Mag, and flux (erg sec^-1 cm^-2 A^-1)."
   ]
  },
  {
   "cell_type": "code",
   "execution_count": null,
   "id": "9be15af5",
   "metadata": {},
   "outputs": [],
   "source": []
  }
 ],
 "metadata": {
  "kernelspec": {
   "display_name": "glcat",
   "language": "python",
   "name": "python3"
  },
  "language_info": {
   "codemirror_mode": {
    "name": "ipython",
    "version": 3
   },
   "file_extension": ".py",
   "mimetype": "text/x-python",
   "name": "python",
   "nbconvert_exporter": "python",
   "pygments_lexer": "ipython3",
   "version": "3.13.5"
  }
 },
 "nbformat": 4,
 "nbformat_minor": 5
}
